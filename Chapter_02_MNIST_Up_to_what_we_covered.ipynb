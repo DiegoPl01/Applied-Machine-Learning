{
 "nbformat": 4,
 "nbformat_minor": 0,
 "metadata": {
  "colab": {
   "provenance": []
  },
  "kernelspec": {
   "name": "python3",
   "display_name": "Python 3"
  }
 },
 "cells": [
  {
   "cell_type": "markdown",
   "source": [
    "#Part I"
   ],
   "metadata": {
    "id": "wS0ueTAsMwFw"
   }
  },
  {
   "cell_type": "code",
   "metadata": {
    "id": "w70LGLCuO4IQ"
   },
   "source": [
    "from keras.datasets import mnist"
   ],
   "execution_count": 2,
   "outputs": [
    {
     "name": "stdout",
     "output_type": "stream",
     "text": [
      "WARNING:tensorflow:From C:\\Users\\Usuario\\AppData\\Local\\Programs\\Python\\Python310\\lib\\site-packages\\keras\\src\\losses.py:2976: The name tf.losses.sparse_softmax_cross_entropy is deprecated. Please use tf.compat.v1.losses.sparse_softmax_cross_entropy instead.\n",
      "\n"
     ]
    }
   ]
  },
  {
   "cell_type": "code",
   "metadata": {
    "id": "_WCYxNw7O8Xs",
    "colab": {
     "base_uri": "https://localhost:8080/"
    },
    "outputId": "6f90264d-c73f-4184-ecbc-8457fd067690"
   },
   "source": [
    "(train_images, train_labels), (test_images, test_labels) = mnist.load_data()"
   ],
   "execution_count": null,
   "outputs": []
  },
  {
   "cell_type": "code",
   "metadata": {
    "colab": {
     "base_uri": "https://localhost:8080/"
    },
    "id": "1zwuZqthPMaa",
    "outputId": "f824e738-2c9c-47d2-f0fe-8c0af2128aeb"
   },
   "source": [
    "train_images.shape"
   ],
   "execution_count": null,
   "outputs": []
  },
  {
   "cell_type": "code",
   "metadata": {
    "colab": {
     "base_uri": "https://localhost:8080/"
    },
    "id": "F2rssnFQYXHl",
    "outputId": "127c65ce-e5cd-4a76-c4d5-42c6234c17bc"
   },
   "source": [
    "len(train_labels)"
   ],
   "execution_count": null,
   "outputs": []
  },
  {
   "cell_type": "code",
   "metadata": {
    "colab": {
     "base_uri": "https://localhost:8080/"
    },
    "id": "zZVUw9wAYa4h",
    "outputId": "44bbc536-d912-4bbe-d1e6-536c37c38981"
   },
   "source": [
    "train_labels"
   ],
   "execution_count": null,
   "outputs": []
  },
  {
   "cell_type": "code",
   "metadata": {
    "colab": {
     "base_uri": "https://localhost:8080/"
    },
    "id": "FncmFwBzYj9Y",
    "outputId": "b64bc31c-118e-48a8-dddc-68fe7a502fa8"
   },
   "source": [
    "test_images.shape"
   ],
   "execution_count": null,
   "outputs": []
  },
  {
   "cell_type": "code",
   "metadata": {
    "colab": {
     "base_uri": "https://localhost:8080/"
    },
    "id": "LjrPNXikY5EE",
    "outputId": "6f8b1ffa-da67-4499-cf2c-f6b98648536b"
   },
   "source": [
    "len(test_labels)"
   ],
   "execution_count": null,
   "outputs": []
  },
  {
   "cell_type": "code",
   "metadata": {
    "colab": {
     "base_uri": "https://localhost:8080/"
    },
    "id": "HZSuWiYOY8NR",
    "outputId": "dbc10413-9c6b-450a-ec8c-45259ccb42ef"
   },
   "source": [
    "test_labels"
   ],
   "execution_count": null,
   "outputs": []
  },
  {
   "cell_type": "code",
   "metadata": {
    "id": "zLMEoLxzY95S"
   },
   "source": [
    "from keras import models"
   ],
   "execution_count": null,
   "outputs": []
  },
  {
   "cell_type": "code",
   "metadata": {
    "id": "PUiffaZYcegK"
   },
   "source": [
    "from keras import layers"
   ],
   "execution_count": null,
   "outputs": []
  },
  {
   "cell_type": "code",
   "metadata": {
    "id": "ERSMfD70chwL"
   },
   "source": [
    "network = models.Sequential()"
   ],
   "execution_count": null,
   "outputs": []
  },
  {
   "cell_type": "code",
   "metadata": {
    "id": "6P975l9hcsCM"
   },
   "source": [
    "network.add(layers.Dense(512, activation='relu',input_shape=(28*28,)))"
   ],
   "execution_count": null,
   "outputs": []
  },
  {
   "cell_type": "code",
   "metadata": {
    "id": "6kEnWBtMc_Jg"
   },
   "source": [
    "network.add(layers.Dense(10, activation='softmax'))"
   ],
   "execution_count": null,
   "outputs": []
  },
  {
   "cell_type": "code",
   "metadata": {
    "id": "GevtCrOwdKA4"
   },
   "source": [
    "network.compile(optimizer='rmsprop', loss='categorical_crossentropy', metrics=['accuracy'])"
   ],
   "execution_count": null,
   "outputs": []
  },
  {
   "cell_type": "code",
   "source": [
    "#train_images[0]"
   ],
   "metadata": {
    "id": "tVoxYajIIUV9"
   },
   "execution_count": null,
   "outputs": []
  },
  {
   "cell_type": "code",
   "metadata": {
    "id": "8DwnRaXH2Rlm"
   },
   "source": [
    "train_images = train_images.reshape((60000, 28*28))"
   ],
   "execution_count": null,
   "outputs": []
  },
  {
   "cell_type": "code",
   "source": [
    "#train_images[0]"
   ],
   "metadata": {
    "id": "cPkMcRGvIIyQ"
   },
   "execution_count": null,
   "outputs": []
  },
  {
   "cell_type": "code",
   "metadata": {
    "id": "X1vU2_ne3eaf"
   },
   "source": [
    "train_images = train_images.astype('float')/255"
   ],
   "execution_count": null,
   "outputs": []
  },
  {
   "cell_type": "code",
   "source": [
    "#train_images[0]"
   ],
   "metadata": {
    "id": "I5nRv1abI3Qo"
   },
   "execution_count": null,
   "outputs": []
  },
  {
   "cell_type": "code",
   "metadata": {
    "id": "_6Hqq_Rh3nJe"
   },
   "source": [
    "test_images=test_images.reshape((10000, 28*28))"
   ],
   "execution_count": null,
   "outputs": []
  },
  {
   "cell_type": "code",
   "metadata": {
    "id": "QBlOGKAd4Q7Q"
   },
   "source": [
    "test_images=test_images.astype('float')/255"
   ],
   "execution_count": null,
   "outputs": []
  },
  {
   "cell_type": "code",
   "metadata": {
    "id": "_gniUlY14eyX"
   },
   "source": [
    "from keras.utils import to_categorical"
   ],
   "execution_count": null,
   "outputs": []
  },
  {
   "cell_type": "code",
   "metadata": {
    "id": "FAq0tQk95AX_"
   },
   "source": [
    "train_labels = to_categorical(train_labels)"
   ],
   "execution_count": null,
   "outputs": []
  },
  {
   "cell_type": "code",
   "metadata": {
    "id": "VIgUhNAm5FnP"
   },
   "source": [
    "test_labels = to_categorical(test_labels)"
   ],
   "execution_count": null,
   "outputs": []
  },
  {
   "cell_type": "markdown",
   "source": [
    "## What is to_categorical?"
   ],
   "metadata": {
    "id": "Gx5VLe2NKhhQ"
   }
  },
  {
   "cell_type": "code",
   "source": [
    "y_train = [1, 0, 3, 4, 5, 0, 2, 1]"
   ],
   "metadata": {
    "id": "6qQ1w8SZKoTJ"
   },
   "execution_count": null,
   "outputs": []
  },
  {
   "cell_type": "code",
   "source": [
    "\"\"\" Assuming the labeled dataset has total six classes (0 to 5), y_train is the true label array \"\"\""
   ],
   "metadata": {
    "colab": {
     "base_uri": "https://localhost:8080/",
     "height": 36
    },
    "id": "6G5SHgk1LMOd",
    "outputId": "a0df54a7-0f1b-4316-cc77-00435f99105c"
   },
   "execution_count": null,
   "outputs": []
  },
  {
   "cell_type": "code",
   "source": [
    "to_categorical(y_train, num_classes=6)"
   ],
   "metadata": {
    "colab": {
     "base_uri": "https://localhost:8080/"
    },
    "id": "xTaDjwHpLMEq",
    "outputId": "557c6131-a5d6-437a-a734-8eafde2c120f"
   },
   "execution_count": null,
   "outputs": []
  },
  {
   "cell_type": "markdown",
   "source": [
    "## The rest of the code"
   ],
   "metadata": {
    "id": "5c_fYZLEKo-Q"
   }
  },
  {
   "cell_type": "code",
   "metadata": {
    "colab": {
     "base_uri": "https://localhost:8080/"
    },
    "id": "EDTUQuiE5Kff",
    "outputId": "07c3ed89-0157-4f1e-a56c-1a01966919a1"
   },
   "source": [
    "network.fit(train_images, train_labels, epochs=5, batch_size=128)"
   ],
   "execution_count": null,
   "outputs": []
  },
  {
   "cell_type": "code",
   "metadata": {
    "colab": {
     "base_uri": "https://localhost:8080/"
    },
    "id": "zdSuk4NY5riW",
    "outputId": "905a8410-4d71-4103-e909-4a008035996b"
   },
   "source": [
    "test_loss, test_acc = network.evaluate(test_images, test_labels)"
   ],
   "execution_count": null,
   "outputs": []
  },
  {
   "cell_type": "code",
   "metadata": {
    "colab": {
     "base_uri": "https://localhost:8080/"
    },
    "id": "aWSM1w-i6RdP",
    "outputId": "b335e2c6-ea55-4166-a123-704658eeaa42"
   },
   "source": [
    "print('test_acc:', test_acc)"
   ],
   "execution_count": null,
   "outputs": []
  },
  {
   "cell_type": "markdown",
   "source": [
    "#Part II"
   ],
   "metadata": {
    "id": "JHO6gPi2MtKF"
   }
  },
  {
   "cell_type": "code",
   "metadata": {
    "id": "TkjhIWBS6YPm"
   },
   "source": [
    "import numpy as np"
   ],
   "execution_count": null,
   "outputs": []
  },
  {
   "cell_type": "code",
   "metadata": {
    "id": "gbwD8WF8GQRY"
   },
   "source": [
    "x = np.array(12)"
   ],
   "execution_count": null,
   "outputs": []
  },
  {
   "cell_type": "code",
   "metadata": {
    "colab": {
     "base_uri": "https://localhost:8080/"
    },
    "id": "lCpyWz55GUJ9",
    "outputId": "032f261c-139b-4a58-f9a3-7225f88d6efc"
   },
   "source": [
    "x"
   ],
   "execution_count": null,
   "outputs": []
  },
  {
   "cell_type": "code",
   "metadata": {
    "colab": {
     "base_uri": "https://localhost:8080/"
    },
    "id": "IVODTOZlGVGC",
    "outputId": "f1fc67bd-807e-4470-8e91-92d00fea8460"
   },
   "source": [
    "x.ndim"
   ],
   "execution_count": null,
   "outputs": []
  },
  {
   "cell_type": "code",
   "metadata": {
    "id": "WyXluMe1GXR2"
   },
   "source": [
    "x = np.array([12, 3, 6, 14])"
   ],
   "execution_count": null,
   "outputs": []
  },
  {
   "cell_type": "code",
   "metadata": {
    "colab": {
     "base_uri": "https://localhost:8080/"
    },
    "id": "UjVa4cI7Ggw1",
    "outputId": "62135adb-9de3-436b-b584-445d010d2bad"
   },
   "source": [
    "x"
   ],
   "execution_count": null,
   "outputs": []
  },
  {
   "cell_type": "code",
   "metadata": {
    "colab": {
     "base_uri": "https://localhost:8080/"
    },
    "id": "x1Us5xeoGh5d",
    "outputId": "5f178598-ae2c-40a3-fe45-a3ad6d6063a9"
   },
   "source": [
    "x.ndim"
   ],
   "execution_count": null,
   "outputs": []
  },
  {
   "cell_type": "code",
   "metadata": {
    "id": "Jmf7OYcVGy2V"
   },
   "source": [
    "x = np.array([[5, 78, 2, 34, 0],\n",
    "[6, 79, 3, 35, 1],\n",
    "[7, 80, 4, 36, 2]])"
   ],
   "execution_count": null,
   "outputs": []
  },
  {
   "cell_type": "code",
   "metadata": {
    "colab": {
     "base_uri": "https://localhost:8080/"
    },
    "id": "Z2oOndsZMmkF",
    "outputId": "f8e0c4e6-3bf1-4ca8-f6c8-55d8eaee2730"
   },
   "source": [
    "x.ndim"
   ],
   "execution_count": null,
   "outputs": []
  },
  {
   "cell_type": "code",
   "metadata": {
    "id": "Bbt98HoQMovO"
   },
   "source": [
    "x = np.array([[[5, 78, 2, 34, 0],\n",
    "[6, 79, 3, 35, 1],\n",
    "[7, 80, 4, 36, 2]],\n",
    "[[5, 78, 2, 34, 0],\n",
    "[6, 79, 3, 35, 1],\n",
    "[7, 80, 4, 36, 2]],\n",
    "[[5, 78, 2, 34, 0],\n",
    "[6, 79, 3, 35, 1],\n",
    "[7, 80, 4, 36, 2]]])\n"
   ],
   "execution_count": null,
   "outputs": []
  },
  {
   "cell_type": "code",
   "metadata": {
    "colab": {
     "base_uri": "https://localhost:8080/"
    },
    "id": "szkFUIL-OdZp",
    "outputId": "e1c54f15-d0ae-48e4-8ee9-9a8f90a4d3df"
   },
   "source": [
    "x.ndim"
   ],
   "execution_count": null,
   "outputs": []
  },
  {
   "cell_type": "code",
   "metadata": {
    "id": "fkorKxEoTi4y"
   },
   "source": [
    "from keras.datasets import mnist"
   ],
   "execution_count": null,
   "outputs": []
  },
  {
   "cell_type": "code",
   "metadata": {
    "id": "JRkk9ierThyu"
   },
   "source": [
    "(train_images, train_labels), (test_images, test_labels) = mnist.load_data()"
   ],
   "execution_count": null,
   "outputs": []
  },
  {
   "cell_type": "code",
   "metadata": {
    "colab": {
     "base_uri": "https://localhost:8080/"
    },
    "id": "4WRdyt_lsTUQ",
    "outputId": "1413f700-c62a-47bf-eab9-c96d1bee6b90"
   },
   "source": [
    "print(train_images.ndim)"
   ],
   "execution_count": null,
   "outputs": []
  },
  {
   "cell_type": "code",
   "metadata": {
    "colab": {
     "base_uri": "https://localhost:8080/"
    },
    "id": "NLf-5m_47IxA",
    "outputId": "9b6db381-d519-4ac0-a600-2505eab93098"
   },
   "source": [
    "print(train_images.shape)"
   ],
   "execution_count": null,
   "outputs": []
  },
  {
   "cell_type": "code",
   "metadata": {
    "colab": {
     "base_uri": "https://localhost:8080/"
    },
    "id": "bNiGQ3hg6wSj",
    "outputId": "8d12f9e5-00c1-478e-ede3-6af6b9b6082b"
   },
   "source": [
    "print(train_images.dtype)"
   ],
   "execution_count": null,
   "outputs": []
  },
  {
   "cell_type": "code",
   "metadata": {
    "id": "BAetdP-HOfCe"
   },
   "source": [
    "digit = train_images[4]"
   ],
   "execution_count": null,
   "outputs": []
  },
  {
   "cell_type": "code",
   "source": [
    "train_images[4]"
   ],
   "metadata": {
    "id": "ZXSQ9TH2_pTC"
   },
   "execution_count": null,
   "outputs": []
  },
  {
   "cell_type": "code",
   "metadata": {
    "id": "qUcJ9ic3Q-wC"
   },
   "source": [
    "import matplotlib.pyplot as plt"
   ],
   "execution_count": null,
   "outputs": []
  },
  {
   "cell_type": "code",
   "metadata": {
    "colab": {
     "base_uri": "https://localhost:8080/",
     "height": 430
    },
    "id": "0JHVX-DkRaSk",
    "outputId": "3d58966f-b7b0-455a-d756-6eee07edb58f"
   },
   "source": [
    "plt.imshow(digit,cmap=plt.cm.binary)\n",
    "plt.show()"
   ],
   "execution_count": null,
   "outputs": []
  },
  {
   "cell_type": "code",
   "source": [
    "train_labels[4]"
   ],
   "metadata": {
    "id": "snE7zuXn_wh_"
   },
   "execution_count": null,
   "outputs": []
  },
  {
   "cell_type": "code",
   "metadata": {
    "id": "ZE7_7x6IRPdl"
   },
   "source": [
    "my_slice = train_images[10:100]"
   ],
   "execution_count": null,
   "outputs": []
  },
  {
   "cell_type": "code",
   "metadata": {
    "colab": {
     "base_uri": "https://localhost:8080/"
    },
    "id": "MBQlzy8xZzhT",
    "outputId": "5a6b8de0-e2e3-41cb-9fec-6d1c66effdb8"
   },
   "source": [
    "print(my_slice.shape)"
   ],
   "execution_count": null,
   "outputs": []
  },
  {
   "cell_type": "code",
   "metadata": {
    "id": "4KaP2NdDZ2jh"
   },
   "source": [
    "my_slice = train_images[10:100, :, :]"
   ],
   "execution_count": null,
   "outputs": []
  },
  {
   "cell_type": "code",
   "metadata": {
    "colab": {
     "base_uri": "https://localhost:8080/"
    },
    "id": "SQXvuszkaC5S",
    "outputId": "79d7d30c-082a-4a9e-a12b-b53ff22b5301"
   },
   "source": [
    "print(my_slice.shape)"
   ],
   "execution_count": null,
   "outputs": []
  },
  {
   "cell_type": "code",
   "metadata": {
    "id": "zww7sN_vaDll"
   },
   "source": [
    "my_slice = train_images[10:100, 0:28, 0:28]"
   ],
   "execution_count": null,
   "outputs": []
  },
  {
   "cell_type": "code",
   "metadata": {
    "colab": {
     "base_uri": "https://localhost:8080/"
    },
    "id": "8YDAXDCdaJmi",
    "outputId": "94243310-0f89-4073-f447-dcd7533d7630"
   },
   "source": [
    "print(my_slice.shape)"
   ],
   "execution_count": null,
   "outputs": []
  },
  {
   "cell_type": "code",
   "metadata": {
    "id": "5qO8zhChAR_M"
   },
   "source": [
    "my_new_slice = train_images[:, 14:, 14:]"
   ],
   "execution_count": null,
   "outputs": []
  },
  {
   "cell_type": "code",
   "metadata": {
    "id": "OFDrm5STAR_M"
   },
   "source": [
    "toshow=my_new_slice[4]"
   ],
   "execution_count": null,
   "outputs": []
  },
  {
   "cell_type": "code",
   "metadata": {
    "colab": {
     "base_uri": "https://localhost:8080/",
     "height": 430
    },
    "outputId": "887fa0aa-688f-4e0a-8f7f-78eec48e7380",
    "id": "r5C1lBhzAR_M"
   },
   "source": [
    "plt.imshow(toshow,cmap=plt.cm.binary)\n",
    "plt.show()"
   ],
   "execution_count": null,
   "outputs": []
  },
  {
   "cell_type": "code",
   "metadata": {
    "id": "i5wgIILeaJ-r"
   },
   "source": [
    "my_new_slice = train_images[:, :, :16]"
   ],
   "execution_count": null,
   "outputs": []
  },
  {
   "cell_type": "code",
   "metadata": {
    "id": "6GX4FX22GXcY"
   },
   "source": [
    "toshow=my_new_slice[4]"
   ],
   "execution_count": null,
   "outputs": []
  },
  {
   "cell_type": "code",
   "metadata": {
    "colab": {
     "base_uri": "https://localhost:8080/",
     "height": 430
    },
    "id": "eTIwPZOtGgXG",
    "outputId": "b101ed9c-0743-44bd-bfc5-aeec522664c0"
   },
   "source": [
    "plt.imshow(toshow,cmap=plt.cm.binary)\n",
    "plt.show()"
   ],
   "execution_count": null,
   "outputs": []
  },
  {
   "cell_type": "code",
   "metadata": {
    "id": "_XQ55znnGiCP"
   },
   "source": [
    "my_new_slice = train_images[:, :20, :14]"
   ],
   "execution_count": null,
   "outputs": []
  },
  {
   "cell_type": "code",
   "metadata": {
    "id": "lhdV-cztGn0n"
   },
   "source": [
    "toshow=my_new_slice[4]"
   ],
   "execution_count": null,
   "outputs": []
  },
  {
   "cell_type": "code",
   "metadata": {
    "colab": {
     "base_uri": "https://localhost:8080/",
     "height": 430
    },
    "id": "V2UzMHo-Gogn",
    "outputId": "c67db81c-cbc2-4ba1-f3b5-711d7e492f8c"
   },
   "source": [
    "plt.imshow(toshow,cmap=plt.cm.binary)\n",
    "plt.show()"
   ],
   "execution_count": null,
   "outputs": []
  },
  {
   "cell_type": "code",
   "metadata": {
    "id": "iDuYdsJ3GqjX"
   },
   "source": [
    "my_new_slice = train_images[:, 7:-7, 7:-7]\n"
   ],
   "execution_count": null,
   "outputs": []
  },
  {
   "cell_type": "code",
   "metadata": {
    "id": "ZOsYkjzDHHIJ"
   },
   "source": [
    "toshow=my_new_slice[4]"
   ],
   "execution_count": null,
   "outputs": []
  },
  {
   "cell_type": "code",
   "metadata": {
    "colab": {
     "base_uri": "https://localhost:8080/",
     "height": 430
    },
    "id": "aPsCgTXdHJFZ",
    "outputId": "7acb6c96-0ff2-4db6-a9af-57978cc51f2f"
   },
   "source": [
    "plt.imshow(toshow,cmap=plt.cm.binary)\n",
    "plt.show()"
   ],
   "execution_count": null,
   "outputs": []
  }
 ]
}
