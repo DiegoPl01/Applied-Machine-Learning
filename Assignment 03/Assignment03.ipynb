{
 "nbformat": 4,
 "nbformat_minor": 0,
 "metadata": {
  "kernelspec": {
   "display_name": "Python 3",
   "language": "python",
   "name": "python3"
  },
  "language_info": {
   "codemirror_mode": {
    "name": "ipython",
    "version": 3
   },
   "file_extension": ".py",
   "mimetype": "text/x-python",
   "name": "python",
   "nbconvert_exporter": "python",
   "pygments_lexer": "ipython3",
   "version": "3.7.4"
  },
  "colab": {
   "provenance": []
  }
 },
 "cells": [
  {
   "cell_type": "markdown",
   "metadata": {
    "id": "SDeNyg4eV7iU"
   },
   "source": [
    "# Assignment 03 - Diego Plata 101354581\n",
    "\n",
    "Dear Team,\n",
    "\n",
    "I hope you are doing GREAT!\n",
    "\n",
    "The following assignment is divided in two parts:\n",
    "- Part A: Please, run the pre-coded cells to see and understand how Convolution 2D kernel works and, at the end, respond to the questions 01 and 02\n",
    "- Part B: Please, run the pre-coded cells to train the given Neural Network and then respond to the questions 03 to 10\n",
    "\n",
    "The idea of the current assignment is to intensify what we have learned about Convolutional Neural Networks (chapter 5 of the *Deep Learning With Python* book).\n",
    "\n",
    "There are some new concepts and challenges that we will face in the current assignment, and we need to resolve each issue and move to the next step.\n",
    "\n",
    "The assignment is easy to follow yet needs the patience to solve each question at a time.\n",
    "\n",
    "**Note:**\n",
    "\n",
    "Please note that every question has 0.5 and it provides five out of total ten marks for the assignment.\n",
    "\n",
    "The video presentation, as you have done for previous assignments, provides the rest of the mark, which is 5.\n",
    "\n",
    "In short, 5 for coding + 5 for the video presentation = 10, but without YouTube presentation you receive no mark for the submission. In short, only submissions with YouTube link will be marked."
   ]
  },
  {
   "cell_type": "markdown",
   "metadata": {
    "id": "siKa5TMYqPE3"
   },
   "source": [
    "# PART A"
   ]
  },
  {
   "cell_type": "markdown",
   "metadata": {
    "id": "UoTV5nZ0SUe2"
   },
   "source": [
    "## Image Convolution"
   ]
  },
  {
   "cell_type": "code",
   "metadata": {
    "id": "LVCtjHkgSUe4"
   },
   "source": [
    "# Import the necessary packages and libraries\n",
    "import numpy as np\n",
    "from PIL import Image\n",
    "from scipy import misc\n",
    "from skimage import data\n",
    "from skimage.color import rgb2gray\n",
    "import matplotlib.pyplot as plt\n",
    "%matplotlib inline\n",
    "import requests\n",
    "from io import BytesIO"
   ],
   "outputs": [],
   "execution_count": null
  },
  {
   "cell_type": "markdown",
   "metadata": {
    "id": "08Ua0ujZthDz"
   },
   "source": [
    "## Import the image"
   ]
  },
  {
   "cell_type": "code",
   "metadata": {
    "id": "Oc4VHtOlSUe-"
   },
   "source": [
    "# Get the image from the URL\n",
    "response = requests.get('https://encrypted-tbn0.gstatic.com/images?q=tbn:ANd9GcTAHCp2ppBbfcPk9S5nE8gFFsZpDh0Exv9qUKXjehk_QszZHsV_pw&s')"
   ],
   "outputs": [],
   "execution_count": null
  },
  {
   "cell_type": "code",
   "metadata": {
    "id": "wXd_foD9VpBF",
    "colab": {
     "base_uri": "https://localhost:8080/"
    },
    "outputId": "9976622c-d2ad-4a33-9b9d-f3bbb001b8b2"
   },
   "source": [
    "# Visualize the content of the response\n",
    "print(response.content)"
   ],
   "outputs": [],
   "execution_count": null
  },
  {
   "cell_type": "code",
   "metadata": {
    "id": "wTVRSW7NSUfB"
   },
   "source": [
    "# BytesIO() buffers the image into the RAM\n",
    "# Image.open() opens the buffered image\n",
    "# np.array() transforms the image into a 3D array containing values from 0-255 corresponding to the RGB colour channels\n",
    "input_img_arr = np.array(Image.open(BytesIO(response.content)))"
   ],
   "outputs": [],
   "execution_count": null
  },
  {
   "cell_type": "markdown",
   "metadata": {
    "id": "pFxFglbzSUfD"
   },
   "source": [
    "## First let’s see the Image.\n",
    "\n",
    "\n"
   ]
  },
  {
   "cell_type": "code",
   "metadata": {
    "id": "kQjK5TErSUfE",
    "colab": {
     "base_uri": "https://localhost:8080/",
     "height": 275
    },
    "outputId": "3bb2395c-f83a-43ea-e032-ea890c27ebbf"
   },
   "source": [
    "# Plot the resulting image from the array\n",
    "plt.imshow(input_img_arr)"
   ],
   "outputs": [],
   "execution_count": null
  },
  {
   "cell_type": "code",
   "metadata": {
    "id": "PPH5ZOvYSUfI",
    "colab": {
     "base_uri": "https://localhost:8080/"
    },
    "outputId": "f6307002-a566-40bb-dad4-a67c307b7de9"
   },
   "source": [
    "# Print the array shape\n",
    "print(input_img_arr.shape)\n",
    "\n",
    "# Compare the values of colour channels 0 and 1\n",
    "print(np.array_equal(\n",
    "        input_img_arr[:, :, 0],\n",
    "        input_img_arr[:, :, 1]))\n",
    "\n",
    "# Compare the values of colour channels 1 and 2\n",
    "print(np.array_equal(\n",
    "        input_img_arr[:, :, 1],\n",
    "        input_img_arr[:, :, 2]))"
   ],
   "outputs": [],
   "execution_count": null
  },
  {
   "cell_type": "code",
   "metadata": {
    "id": "a5hVypNkSUfL",
    "colab": {
     "base_uri": "https://localhost:8080/",
     "height": 275
    },
    "outputId": "63852dc6-fdf3-459f-f9de-8ed4abb76da7"
   },
   "source": [
    "# Save the colour channel 0 in to the input_img_arr array variable and print it\n",
    "input_img_arr = input_img_arr[:, :, 0]\n",
    "plt.imshow(input_img_arr)"
   ],
   "outputs": [],
   "execution_count": null
  },
  {
   "cell_type": "code",
   "metadata": {
    "id": "0zDrYGWmSUfO",
    "colab": {
     "base_uri": "https://localhost:8080/",
     "height": 180
    },
    "outputId": "0e50e304-a6fe-44e1-997d-a489732d49b2"
   },
   "source": [
    "# Visualize the values inside of the resulting array\n",
    "input_img_arr[:, :]"
   ],
   "outputs": [],
   "execution_count": null
  },
  {
   "cell_type": "markdown",
   "metadata": {
    "id": "Og9Esrt4SUfQ"
   },
   "source": [
    "## Convolution with 2-D Kernels"
   ]
  },
  {
   "cell_type": "markdown",
   "metadata": {
    "id": "g_SrKfBIbH0v"
   },
   "source": [
    "How Convolution works?\n",
    "https://miro.medium.com/max/790/1*1okwhewf5KCtIPaFib4XaA.gif"
   ]
  },
  {
   "cell_type": "code",
   "metadata": {
    "id": "lmCTl0kuSUfR"
   },
   "source": [
    "# Create a padded array by adding 2 rows and 2 columns (one of each at the beginning and another of each at the end)\n",
    "padded_array = np.pad(input_img_arr, (1, 1), 'constant')\n",
    "\n",
    "# Create the kernel\n",
    "kernel = np.array([[0, 0, 0],\n",
    "                   [0, 1, 0],\n",
    "                   [0, 0, 0]])\n",
    "\n",
    "#Create an output array filled with zeros with the same shape of input_img_arr\n",
    "output_array = np.zeros(input_img_arr.shape)"
   ],
   "outputs": [],
   "execution_count": null
  },
  {
   "cell_type": "code",
   "metadata": {
    "id": "k0uPb7wPjJRM",
    "colab": {
     "base_uri": "https://localhost:8080/"
    },
    "outputId": "f4ec4e57-1f4d-4f8c-95cd-871a5c501414"
   },
   "source": [
    "#Compare both arrays\n",
    "print(\"Original array shape:\",input_img_arr.shape)\n",
    "print(\"Padded array shape:\",padded_array.shape)"
   ],
   "outputs": [],
   "execution_count": null
  },
  {
   "cell_type": "code",
   "metadata": {
    "id": "KVx4X5x2SUfU"
   },
   "source": [
    "#Apply the kernel to the array values\n",
    "for i in range(padded_array.shape[0]-2):\n",
    "    for j in range(padded_array.shape[1]-2):\n",
    "        temp_array = padded_array[i:i+3, j:j+3]\n",
    "        output_array[i, j] = np.sum(temp_array*kernel)"
   ],
   "outputs": [],
   "execution_count": null
  },
  {
   "cell_type": "code",
   "metadata": {
    "id": "FCIe1fSsSUfZ",
    "colab": {
     "base_uri": "https://localhost:8080/",
     "height": 275
    },
    "outputId": "65634631-d88e-462b-d6e9-2e44cb7d72a9"
   },
   "source": [
    "#Plot the resulting array\n",
    "plt.imshow(output_array, cmap = plt.get_cmap('gray'))"
   ],
   "outputs": [],
   "execution_count": null
  },
  {
   "cell_type": "markdown",
   "metadata": {
    "id": "22lqqqquSUfc"
   },
   "source": [
    "## Standard Convolution"
   ]
  },
  {
   "cell_type": "code",
   "metadata": {
    "id": "UydG3EDPSUfd"
   },
   "source": [
    "# Define a function to squash out the values between 0-255 range.\n",
    "# This function will be called in the following function since the resulting array values can be negative or greater than 255\n",
    "def squash_pixel_value(value):\n",
    "    if value < 0:\n",
    "        return 0\n",
    "    elif value < 255:\n",
    "        return value\n",
    "    else:\n",
    "        return 255"
   ],
   "outputs": [],
   "execution_count": null
  },
  {
   "cell_type": "code",
   "metadata": {
    "id": "vYhXp49pSUfg"
   },
   "source": [
    "#Define a function to apply a Conv 2D Kernel to an image\n",
    "def conv_2d_kernel(image_array_2d, kernel, squash_pixels = True):\n",
    "    padded_array = np.pad(image_array_2d, (1, 1), 'constant')\n",
    "\n",
    "    kernel_width = kernel.shape[0]\n",
    "    kernel_height = kernel.shape[1]\n",
    "\n",
    "    transformed_array = np.zeros(image_array_2d.shape)\n",
    "\n",
    "    for i in range(padded_array.shape[0] - kernel_width + 1):\n",
    "        for j in range(padded_array.shape[1] - kernel_height + 1):\n",
    "            temp_array = padded_array[i:i+kernel_width, j:j+kernel_height]\n",
    "            if squash_pixels:\n",
    "                transformed_array[i, j] = squash_pixel_value(np.sum(temp_array*kernel))\n",
    "            else:\n",
    "                transformed_array[i, j] = np.sum(temp_array*kernel)\n",
    "    return transformed_array"
   ],
   "outputs": [],
   "execution_count": null
  },
  {
   "cell_type": "markdown",
   "metadata": {
    "id": "jxfx_0V6qzLN"
   },
   "source": [
    "## Line detection\n",
    "With image convolutions, you can easily detect lines. Here are four convolutions to detect horizontal, vertical and lines at 45 degrees:"
   ]
  },
  {
   "cell_type": "code",
   "metadata": {
    "id": "K4n5fAp2rF8r",
    "colab": {
     "base_uri": "https://localhost:8080/",
     "height": 275
    },
    "outputId": "5c230ff5-5772-4f56-f18b-3ac194c683fd"
   },
   "source": [
    "#Create a kernel to detect horizontal lines\n",
    "horizontal_kernel = np.array([[-1, -1, -1],\n",
    "                              [2, 2, 2],\n",
    "                              [-1, -1, -1]])\n",
    "\n",
    "#Apply the kernel to the image\n",
    "transf_horizontal = conv_2d_kernel(input_img_arr, kernel = horizontal_kernel)\n",
    "\n",
    "#Plot the resulting image\n",
    "plt.imshow(transf_horizontal, cmap = plt.get_cmap('gray'))"
   ],
   "outputs": [],
   "execution_count": null
  },
  {
   "cell_type": "markdown",
   "metadata": {
    "id": "_uibsjbZmL3p"
   },
   "source": [
    "### Questions 01-a and 01-b"
   ]
  },
  {
   "cell_type": "markdown",
   "metadata": {
    "id": "h7ZsC_RR4ryd"
   },
   "source": [
    "#### 01-a: Based on the kernels represented on the above image, create a kernel to detect 45 degree lines using convolution, apply to the car's image and plot the result"
   ]
  },
  {
   "cell_type": "code",
   "metadata": {
    "id": "hcfENHuMoheA",
    "colab": {
     "base_uri": "https://localhost:8080/",
     "height": 275
    },
    "outputId": "3bc5b0c4-0c80-447a-ad25-e0c260b1dec2"
   },
   "source": [
    "# Type your code here\n",
    "acute_kernel = np.array([[-1, -1, 2], [-1, 2, -1], [2, -1, -1]])\n",
    "transf_acute = conv_2d_kernel(input_img_arr, kernel=acute_kernel)\n",
    "plt.imshow(transf_acute, cmap=plt.get_cmap(\"gray\"))"
   ],
   "outputs": [],
   "execution_count": null
  },
  {
   "cell_type": "markdown",
   "metadata": {
    "id": "tx8C7lS35BuV"
   },
   "source": [
    "#### 01-b: Based on the kernels represented on the above image, create a kernel to detect 135 degree lines using convolution, apply to the car's image and plot the result"
   ]
  },
  {
   "cell_type": "code",
   "metadata": {
    "id": "352aGyWInu1Q",
    "colab": {
     "base_uri": "https://localhost:8080/",
     "height": 275
    },
    "outputId": "4ba2b8a1-cdda-4f90-d477-76c8410e86f7"
   },
   "source": [
    "# Type your code here\n",
    "obtuse_kernel = np.array([[2, -1, -1], [-1, 2, -1], [-1, -1, 2]])\n",
    "transf_obtuse = conv_2d_kernel(input_img_arr, kernel=obtuse_kernel)\n",
    "plt.imshow(transf_obtuse, cmap=plt.get_cmap(\"gray\"))"
   ],
   "outputs": [],
   "execution_count": null
  },
  {
   "cell_type": "markdown",
   "metadata": {
    "id": "Q9oVOh54SUfi"
   },
   "source": [
    "## Edge Detection"
   ]
  },
  {
   "cell_type": "markdown",
   "metadata": {
    "id": "aGrNuIoykkym"
   },
   "source": [
    "### Question 02: Apply the following kernels to your image and plot the output"
   ]
  },
  {
   "cell_type": "markdown",
   "metadata": {
    "id": "MTZsQ0J84Tl1"
   },
   "source": [
    "#### 02-a:"
   ]
  },
  {
   "cell_type": "code",
   "metadata": {
    "id": "C61H_8XJSUfj"
   },
   "source": [
    "edge_kernel_1 = np.array([[1, 0, -1],\n",
    "                          [0, 0, 0],\n",
    "                          [-1, 0, 1]])"
   ],
   "outputs": [],
   "execution_count": null
  },
  {
   "cell_type": "code",
   "metadata": {
    "id": "6ko61tSeFBnt",
    "colab": {
     "base_uri": "https://localhost:8080/",
     "height": 275
    },
    "outputId": "8b880f98-5347-4148-f492-22308b20a64f"
   },
   "source": [
    "# Type your code here\n",
    "transf_edge = conv_2d_kernel(input_img_arr, kernel=edge_kernel_1)\n",
    "plt.imshow(transf_edge, cmap=plt.get_cmap(\"gray\"))"
   ],
   "outputs": [],
   "execution_count": null
  },
  {
   "cell_type": "markdown",
   "metadata": {
    "id": "MONSadcO4jMN"
   },
   "source": [
    "#### 02-b:"
   ]
  },
  {
   "cell_type": "code",
   "metadata": {
    "id": "oPUrgHjbSUfm"
   },
   "source": [
    "edge_kernel_2 = np.array([[0, 1, 0],\n",
    "                          [1, -4, 1],\n",
    "                          [0, 1, 0]])"
   ],
   "outputs": [],
   "execution_count": null
  },
  {
   "cell_type": "code",
   "metadata": {
    "id": "8YgACVQBFCEy",
    "colab": {
     "base_uri": "https://localhost:8080/",
     "height": 275
    },
    "outputId": "ed4842b8-749b-4e22-af6a-f074e67a9624"
   },
   "source": [
    "# Type your code here\n",
    "transf_edge_2 = conv_2d_kernel(input_img_arr, kernel=edge_kernel_2)\n",
    "plt.imshow(transf_edge_2, cmap=plt.get_cmap(\"gray\"))"
   ],
   "outputs": [],
   "execution_count": null
  },
  {
   "cell_type": "markdown",
   "metadata": {
    "id": "EelROD2M4l-d"
   },
   "source": [
    "#### 02-c:"
   ]
  },
  {
   "cell_type": "code",
   "metadata": {
    "id": "s_39AyUoSUfo"
   },
   "source": [
    "edge_kernel_3 = np.array([[-1, -1, -1],\n",
    "                          [-1, 8, -1],\n",
    "                          [-1, -1, -1]])"
   ],
   "outputs": [],
   "execution_count": null
  },
  {
   "cell_type": "code",
   "metadata": {
    "id": "hFNrWbIKFCaj",
    "colab": {
     "base_uri": "https://localhost:8080/",
     "height": 275
    },
    "outputId": "86fbb0b6-8264-4b1a-ea11-b3aca3b8b37d"
   },
   "source": [
    "# Type your code here\n",
    "transf_edge_3 = conv_2d_kernel(input_img_arr, kernel=edge_kernel_3)\n",
    "plt.imshow(transf_edge_3, cmap=plt.get_cmap(\"gray\"))"
   ],
   "outputs": [],
   "execution_count": null
  },
  {
   "cell_type": "markdown",
   "metadata": {
    "id": "xHguorlCqsZV"
   },
   "source": [
    "# PART B"
   ]
  },
  {
   "cell_type": "markdown",
   "metadata": {
    "id": "AvWKdFZ5TlZO"
   },
   "source": [
    "## Importing Libraries"
   ]
  },
  {
   "cell_type": "code",
   "metadata": {
    "id": "r6DcULu8hCC0"
   },
   "source": [
    "# Import the necessary packages and libraries\n",
    "import keras\n",
    "import matplotlib.pyplot as plt\n",
    "import tensorflow as tf\n",
    "from keras.utils import to_categorical\n",
    "from keras.models import Sequential\n",
    "from keras.layers import Dense, Flatten, Conv2D, MaxPooling2D\n",
    "from keras.constraints import max_norm\n",
    "from keras.datasets import cifar10"
   ],
   "outputs": [],
   "execution_count": null
  },
  {
   "cell_type": "markdown",
   "metadata": {
    "id": "hWtqPBoZukdZ"
   },
   "source": [
    "## Preparing the dataset\n",
    "\n",
    "Read more about cifar10 dataset here\n",
    "https://www.cs.toronto.edu/~kriz/cifar.html"
   ]
  },
  {
   "cell_type": "code",
   "metadata": {
    "id": "NGSN8N5OMBLD",
    "colab": {
     "base_uri": "https://localhost:8080/"
    },
    "outputId": "772f9379-fd74-4ee5-f96b-ce083f132191"
   },
   "source": [
    "#load the dataset\n",
    "(train_images, train_labels),(test_images, test_labels) = cifar10.load_data()"
   ],
   "outputs": [],
   "execution_count": null
  },
  {
   "cell_type": "code",
   "metadata": {
    "id": "6aHVMjBfQHKm"
   },
   "source": [
    "# one hot encode target values\n",
    "train_labels = to_categorical(train_labels,10)\n",
    "test_labels = to_categorical(test_labels,10)\n",
    "\n",
    "# convert from integers to floats\n",
    "train_images = train_images.astype('float32')\n",
    "test_images = test_images.astype('float32')\n",
    "\n",
    "# normalize to range 0-1\n",
    "train_images = train_images / 255.0\n",
    "test_images = test_images / 255.0"
   ],
   "outputs": [],
   "execution_count": null
  },
  {
   "cell_type": "markdown",
   "metadata": {
    "id": "XP9A1L4ATVQx"
   },
   "source": [
    "## Building the neural network model"
   ]
  },
  {
   "cell_type": "code",
   "metadata": {
    "id": "R0Cm2k87ZelZ"
   },
   "source": [
    "# Create the model\n",
    "model = keras.Sequential([\n",
    "          keras.layers.Conv2D(32, (3,3), padding='same',\n",
    "                              activation='relu',\n",
    "                              kernel_constraint=max_norm(3),\n",
    "                              input_shape=(32, 32, 3)),\n",
    "          keras.layers.MaxPooling2D((2, 2)),\n",
    "          keras.layers.Flatten(),\n",
    "          keras.layers.Dense(128, activation='relu'),\n",
    "          keras.layers.Dense(10, activation='softmax'),\n",
    "])"
   ],
   "outputs": [],
   "execution_count": null
  },
  {
   "cell_type": "code",
   "metadata": {
    "id": "5egTwGtaZrPh"
   },
   "source": [
    "# Model compilation\n",
    "model.compile(optimizer=\"adam\", loss='categorical_crossentropy', metrics=['accuracy'])"
   ],
   "outputs": [],
   "execution_count": null
  },
  {
   "cell_type": "code",
   "metadata": {
    "id": "qCoNxJ8vafMt",
    "colab": {
     "base_uri": "https://localhost:8080/"
    },
    "outputId": "4a462553-ff8e-4bef-c00d-3686641d0f03"
   },
   "source": [
    "# Display a summary of the model\n",
    "model.summary()"
   ],
   "outputs": [],
   "execution_count": null
  },
  {
   "cell_type": "markdown",
   "metadata": {
    "id": "HPu6bEzuUi3N"
   },
   "source": [
    "## CustomCallback class for logging"
   ]
  },
  {
   "cell_type": "code",
   "metadata": {
    "id": "KzXh8GMIgYZF"
   },
   "source": [
    "# Create a Custom Callback class to be called during the training\n",
    "class CustomCallback(tf.keras.callbacks.Callback):\n",
    "  def on_epoch_end(self, epoch, logs={}):\n",
    "    if(epoch % 5 ==0):\n",
    "      print(\" Finished epoch #\",epoch)\n",
    "      print('Accuracy resched train is',logs.get('accuracy'))\n",
    "      print('Accuracy reached val is',logs.get('val_accuracy'))\n",
    "      print()\n",
    "      return"
   ],
   "outputs": [],
   "execution_count": null
  },
  {
   "cell_type": "code",
   "metadata": {
    "id": "XZlAwLEC6VAa"
   },
   "source": [
    "# Instantiate the Custom Callback\n",
    "cc=CustomCallback()"
   ],
   "outputs": [],
   "execution_count": null
  },
  {
   "cell_type": "markdown",
   "metadata": {
    "id": "2uJfNrhAUx_0"
   },
   "source": [
    "## Training the Nework"
   ]
  },
  {
   "cell_type": "code",
   "metadata": {
    "id": "DFR-jJzp_XKm",
    "colab": {
     "base_uri": "https://localhost:8080/"
    },
    "outputId": "7dc6b079-40a8-4c60-dfd5-07246cd79769"
   },
   "source": [
    "# Train the Network with train_images and train_labels\n",
    "history = model.fit(train_images,\n",
    "                    train_labels,\n",
    "                    epochs=50,\n",
    "                    batch_size=256,\n",
    "                    verbose=0,\n",
    "                    validation_data=(test_images,test_labels),\n",
    "                    callbacks=[cc])"
   ],
   "outputs": [],
   "execution_count": null
  },
  {
   "cell_type": "markdown",
   "metadata": {
    "id": "iQzPCajaVDKd"
   },
   "source": [
    "## Plotting the Results"
   ]
  },
  {
   "cell_type": "code",
   "metadata": {
    "id": "MchAB5WfxV8t"
   },
   "source": [
    "# Define a function to plot the results\n",
    "def result_plotting():\n",
    "  plt.figure(figsize=[8,6])\n",
    "  plt.plot(history.history['accuracy'],'blue',linewidth=3.0)\n",
    "  plt.plot(history.history['val_accuracy'],'red',ls='--',linewidth=3.0)\n",
    "  plt.legend(['Training Accuracy','Validaion Accuracy'],fontsize=18,loc='lower right')\n",
    "  plt.xlabel('Epochs',fontsize=16)\n",
    "  plt.ylabel('Accuracy',fontsize=16)\n",
    "  plt.title('Accuracy Curves',fontsize=16)"
   ],
   "outputs": [],
   "execution_count": null
  },
  {
   "cell_type": "code",
   "metadata": {
    "id": "cPJ3YkJGxc50",
    "colab": {
     "base_uri": "https://localhost:8080/",
     "height": 572
    },
    "outputId": "6a049fa1-0e8b-4674-9c87-6ec7b328cff1"
   },
   "source": [
    "# Call the result_plotting() function\n",
    "result_plotting()"
   ],
   "outputs": [],
   "execution_count": null
  },
  {
   "cell_type": "markdown",
   "metadata": {
    "id": "CqKg0GApvg34"
   },
   "source": [
    "### Questions 03 to 10"
   ]
  },
  {
   "cell_type": "markdown",
   "metadata": {
    "id": "0_JiSHlB1poQ"
   },
   "source": [
    "#### 03: Did the network presented signs of overfitting? If so, in which epoch?"
   ]
  },
  {
   "cell_type": "markdown",
   "metadata": {
    "id": "VCVgpwaYuw9W"
   },
   "source": [
    "Answer: Yes, the network started overfitting around the 10th epoch"
   ]
  },
  {
   "cell_type": "markdown",
   "metadata": {
    "id": "duvgCUoI10lw"
   },
   "source": [
    "#### 04: Write down how many layers this model has and identify their types"
   ]
  },
  {
   "cell_type": "markdown",
   "metadata": {
    "id": "J624hP3WvKp-"
   },
   "source": [
    "Answer: Five layers. Conv2d, MaxPooling2d, Flatten Layer, Dense Layer, Dense"
   ]
  },
  {
   "cell_type": "markdown",
   "metadata": {
    "id": "oGpTHvYH17PX"
   },
   "source": [
    "#### 05: Briefly explain what is the purpose of each of those layers"
   ]
  },
  {
   "cell_type": "markdown",
   "metadata": {
    "id": "4mkZet-_vUcO"
   },
   "source": [
    "Answer: The first one creates a convolution kernel that helps to produce a tensor of outputs. The second one reduces the spatial dimensions of the output. The third one takes the array of the data and converts it into a single dimension. And the last two feed data from previous layer to provide an output based on previous weights and outputs."
   ]
  },
  {
   "cell_type": "markdown",
   "metadata": {
    "id": "auvdXu2h1_j_"
   },
   "source": [
    "#### 06: Add one or more Convolution layers to your model and run it again.\n",
    "\n",
    "> Hint: Don't modify the given code. Instead, copy and paste the given code below, then:\n",
    "1. modify it to answer the current question\n",
    "2.  run the cell below containing the fucntions ```model.compile()``` and ```model.fit()```.\n",
    "3. once the training is complete, run the following cell containing the ```result_plotting()``` function"
   ]
  },
  {
   "cell_type": "code",
   "metadata": {
    "id": "Il-wJ19VFJOq"
   },
   "source": [
    "# Type your code here\n",
    "model = keras.Sequential([\n",
    "          keras.layers.Conv2D(32, (3,3), padding='same',\n",
    "                              activation='relu',\n",
    "                              kernel_constraint=max_norm(3),\n",
    "                              input_shape=(32, 32, 3)),\n",
    "          keras.layers.MaxPooling2D((2, 2)),\n",
    "          keras.layers.Conv2D(128, (3,3), padding='same',\n",
    "                              activation='relu',\n",
    "                              kernel_constraint=max_norm(3),\n",
    "                              input_shape=(32, 32, 3)),\n",
    "          keras.layers.MaxPooling2D((2, 2)),\n",
    "          keras.layers.Flatten(),\n",
    "          keras.layers.Dense(128, activation='relu'),\n",
    "          keras.layers.Dense(10, activation='softmax'),\n",
    "])"
   ],
   "outputs": [],
   "execution_count": null
  },
  {
   "cell_type": "code",
   "metadata": {
    "id": "miyrLElwClKY",
    "colab": {
     "base_uri": "https://localhost:8080/"
    },
    "outputId": "51e8a336-9e54-4c61-84fd-b3189829d2cb"
   },
   "source": [
    "# Compile your new model\n",
    "model.compile(optimizer=\"adam\", loss='categorical_crossentropy', metrics=['accuracy'])\n",
    "\n",
    "# Train the Neural Network with your new model\n",
    "history = model.fit(train_images,\n",
    "                    train_labels,\n",
    "                    epochs=50,\n",
    "                    batch_size=256,\n",
    "                    verbose=0,\n",
    "                    validation_data=(test_images,test_labels),\n",
    "                    callbacks=[cc])"
   ],
   "outputs": [],
   "execution_count": null
  },
  {
   "cell_type": "code",
   "metadata": {
    "id": "JBrYQBSYyG8b",
    "colab": {
     "base_uri": "https://localhost:8080/",
     "height": 572
    },
    "outputId": "3bd16ce5-8955-4906-96ea-556fe65affb7"
   },
   "source": [
    "# Call the result_plotting() to display the results from your code\n",
    "result_plotting()"
   ],
   "outputs": [],
   "execution_count": null
  },
  {
   "cell_type": "markdown",
   "metadata": {
    "id": "SD-UkUB53JfH"
   },
   "source": [
    "#### 07: Compare the results and describe what are the differences between them."
   ]
  },
  {
   "cell_type": "markdown",
   "metadata": {
    "id": "MCr2tFZIvcE-"
   },
   "source": [
    "Answer: The models have similar results but the modified one has a higher validation accuracy compared to the previous model."
   ]
  },
  {
   "cell_type": "markdown",
   "metadata": {
    "id": "Wxesr_NX3QPu"
   },
   "source": [
    "#### 08: Add a dropout layer to your model, run it, and compare the result with the previous one.\n",
    "\n",
    "> Hint 1: Here is a good explanation on how dropouts work https://www.youtube.com/watch?v=bRyOi0L6Rs8\n",
    "\n",
    "> Hint 2: Don't modify the given code. Instead, copy and paste the given code below, then:\n",
    "1. modify it to answer the current question\n",
    "2. run the cell below containing the fucntions ```model.compile()``` and ```model.fit()```.\n",
    "3. once the training is complete, run the following cell containing the ```result_plotting()``` function\n",
    "\n",
    "\n"
   ]
  },
  {
   "cell_type": "code",
   "metadata": {
    "id": "VIUrtecGwl-W"
   },
   "source": [
    "# Type your code here\n",
    "from keras.backend import dropout\n",
    "model = keras.Sequential([\n",
    "          keras.layers.Conv2D(32, (3,3), padding='same',\n",
    "                              activation='relu',\n",
    "                              kernel_constraint=max_norm(3),\n",
    "                              input_shape=(32, 32, 3)),\n",
    "          keras.layers.MaxPooling2D((2, 2)),\n",
    "          keras.layers.Conv2D(128, (3,3), padding='same',\n",
    "                              activation='relu',\n",
    "                              kernel_constraint=max_norm(3),\n",
    "                              input_shape=(32, 32, 3)),\n",
    "          keras.layers.MaxPooling2D((2, 2)),\n",
    "          keras.layers.Dropout(0.5),\n",
    "          keras.layers.Flatten(),\n",
    "          keras.layers.Dense(128, activation='relu'),\n",
    "          keras.layers.Dense(10, activation='softmax'),\n",
    "])"
   ],
   "outputs": [],
   "execution_count": null
  },
  {
   "cell_type": "code",
   "metadata": {
    "id": "59Tiiob-CsNS",
    "colab": {
     "base_uri": "https://localhost:8080/"
    },
    "outputId": "f1039342-df7e-4a70-ab8a-0ddc705a64c0"
   },
   "source": [
    "# Compile your new model\n",
    "model.compile(optimizer=\"adam\", loss='categorical_crossentropy', metrics=['accuracy'])\n",
    "\n",
    "# Train the Neural Network with your new model\n",
    "history = model.fit(train_images,\n",
    "                    train_labels,\n",
    "                    epochs=50,\n",
    "                    batch_size=256,\n",
    "                    verbose=0,\n",
    "                    validation_data=(test_images,test_labels),\n",
    "                    callbacks=[cc])"
   ],
   "outputs": [],
   "execution_count": null
  },
  {
   "cell_type": "code",
   "metadata": {
    "id": "j7gJF1U3ybWs",
    "colab": {
     "base_uri": "https://localhost:8080/",
     "height": 572
    },
    "outputId": "e3afae56-2ea0-4455-b455-394f7d8918e7"
   },
   "source": [
    "# Call the result_plotting() to display the results from your code\n",
    "result_plotting()"
   ],
   "outputs": [],
   "execution_count": null
  },
  {
   "cell_type": "markdown",
   "metadata": {
    "id": "_MdUiWHs33S-"
   },
   "source": [
    "#### 09: Explain with your own words what is the purpose of a dropout layer and how it works."
   ]
  },
  {
   "cell_type": "markdown",
   "metadata": {
    "id": "RzOOq_hpvi_G"
   },
   "source": [
    "Answer: A drooput layer is used to reduce the overfitting of neural networks. It works by removing the unwanted data."
   ]
  },
  {
   "cell_type": "markdown",
   "metadata": {
    "id": "4EU3Yt8O36-j"
   },
   "source": [
    "#### 10: Make any other modification in the hyperparameters to improve the model's accuracy and compare the final result with the previous one.\n",
    "> Hint: Don't modify the given code. Instead, copy and paste the given code below, then:\n",
    "1. modify it to answer the current question\n",
    "2. run the cell below containing the fucntions ```model.compile()``` and ```model.fit()```.\n",
    "3. once the training is complete, run the following cell containing the ```result_plotting()``` function"
   ]
  },
  {
   "cell_type": "code",
   "metadata": {
    "id": "tJn-vuJ3FLaS"
   },
   "source": [
    "# Type your answer here\n",
    "from keras.backend import dropout\n",
    "model = keras.Sequential([\n",
    "          keras.layers.Conv2D(32, (3,3), padding='same',\n",
    "                              activation='relu',\n",
    "                              kernel_constraint=max_norm(3),\n",
    "                              input_shape=(32, 32, 3)),\n",
    "          keras.layers.MaxPooling2D((2, 2)),\n",
    "          keras.layers.Conv2D(64, (3,3), padding='same',\n",
    "                              activation='relu',\n",
    "                              kernel_constraint=max_norm(3),\n",
    "                              input_shape=(32, 32, 3)),\n",
    "          keras.layers.MaxPooling2D((2, 2)),\n",
    "          keras.layers.Dropout(0.8),\n",
    "          keras.layers.Flatten(),\n",
    "          keras.layers.Dense(512, activation='relu'),\n",
    "          keras.layers.Dense(10, activation='softmax'),\n",
    "])"
   ],
   "outputs": [],
   "execution_count": null
  },
  {
   "cell_type": "code",
   "metadata": {
    "id": "-seQJB5JC6Ub",
    "colab": {
     "base_uri": "https://localhost:8080/"
    },
    "outputId": "ecaf30f6-e9db-459e-89f3-788db34fda83"
   },
   "source": [
    "# Compile your new model\n",
    "model.compile(optimizer=\"adam\", loss='categorical_crossentropy', metrics=['accuracy'])\n",
    "\n",
    "# Train the Neural Network with your new model\n",
    "history = model.fit(train_images,\n",
    "                    train_labels,\n",
    "                    epochs=50,\n",
    "                    batch_size=256,\n",
    "                    verbose=0,\n",
    "                    validation_data=(test_images,test_labels),\n",
    "                    callbacks=[cc])"
   ],
   "outputs": [],
   "execution_count": null
  },
  {
   "cell_type": "code",
   "metadata": {
    "id": "vw9FTmmmzBBC",
    "colab": {
     "base_uri": "https://localhost:8080/",
     "height": 572
    },
    "outputId": "96cd6354-b7a1-4b5e-ba7e-657fdda44284"
   },
   "source": [
    "# Call the result_plotting() to display the results from your code\n",
    "result_plotting()"
   ],
   "outputs": [],
   "execution_count": null
  },
  {
   "cell_type": "markdown",
   "metadata": {
    "id": "KmtO28C51lXS"
   },
   "source": [
    "Notes:\n",
    "- In your submission, YOU MUST SUBMIT A LINK TO YOUR YOUTUBE VIDEO as a COMENTS SUBMISSION SECTION on your D2L SUBMISSION. Omitting this comment will result in a 0% for your total mark.\n",
    "\n",
    "- To get the 5% of the (coding) mark, you need to submit a YouTube video that scrolls through your code, explaining every single line of your code.\n",
    "\n",
    "Then submit the link to the uploaded YouTube video in the **Comments Submision section**.  \n"
   ]
  },
  {
   "cell_type": "markdown",
   "metadata": {
    "id": "HupobwCm3IBl"
   },
   "source": [
    "**Summary:**\n",
    "\n",
    "In short, what we need to submit are:\n",
    "\n",
    "a)\tThe current **ipynb file** that contains all the code (5 marks).\n",
    "\n",
    "b)\tThe **YouTube link** of your recorded video in the **Comments Submission section** (5 marks).\n",
    "\n",
    "Zero for submissions, without YouTube video explanation.\n"
   ]
  },
  {
   "cell_type": "markdown",
   "metadata": {
    "id": "EiLwmjHV3XlQ"
   },
   "source": [
    "All my best,\n",
    "\n",
    "Reza\n"
   ]
  },
  {
   "cell_type": "code",
   "source": [
    "# Diego Plata - 101354581"
   ],
   "metadata": {
    "id": "5dXsuwYaPPNl"
   },
   "outputs": [],
   "execution_count": null
  }
 ]
}
